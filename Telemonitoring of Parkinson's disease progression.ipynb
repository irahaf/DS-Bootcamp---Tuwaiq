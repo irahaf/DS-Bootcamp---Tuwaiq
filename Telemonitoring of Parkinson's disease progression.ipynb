{
 "cells": [
  {
   "cell_type": "code",
   "execution_count": 167,
   "id": "b09dabca",
   "metadata": {},
   "outputs": [],
   "source": [
    "import pandas as pd\n",
    "import scipy as sc\n",
    "import numpy as np\n",
    "from sklearn.linear_model import LinearRegression\n",
    "from sklearn.model_selection import train_test_split\n",
    "from sklearn.metrics import mean_squared_error, r2_score\n",
    "from sklearn import linear_model\n",
    "from sklearn.multioutput import MultiOutputRegressor\n",
    "from sklearn.preprocessing import PolynomialFeatures\n",
    "from sklearn.tree import DecisionTreeRegressor\n",
    "from sklearn.neighbors import KNeighborsRegressor\n",
    "from sklearn.ensemble import RandomForestRegressor\n",
    "from sklearn.ensemble import GradientBoostingRegressor\n",
    "\n"
   ]
  },
  {
   "cell_type": "code",
   "execution_count": 169,
   "id": "7a0b76eb",
   "metadata": {},
   "outputs": [
    {
     "name": "stdout",
     "output_type": "stream",
     "text": [
      "(5875, 22)\n"
     ]
    }
   ],
   "source": [
    "parkinsons_data = pd.read_csv(\"parkinsons_updrs.data\")\n",
    "print(parkinsons_data.shape)"
   ]
  },
  {
   "cell_type": "markdown",
   "id": "9cddd2c3",
   "metadata": {},
   "source": [
    "We see specifically that we have 22 different features and 5875 the number of registrations."
   ]
  },
  {
   "cell_type": "code",
   "execution_count": 170,
   "id": "36b86f64",
   "metadata": {},
   "outputs": [
    {
     "data": {
      "text/html": [
       "<div>\n",
       "<style scoped>\n",
       "    .dataframe tbody tr th:only-of-type {\n",
       "        vertical-align: middle;\n",
       "    }\n",
       "\n",
       "    .dataframe tbody tr th {\n",
       "        vertical-align: top;\n",
       "    }\n",
       "\n",
       "    .dataframe thead th {\n",
       "        text-align: right;\n",
       "    }\n",
       "</style>\n",
       "<table border=\"1\" class=\"dataframe\">\n",
       "  <thead>\n",
       "    <tr style=\"text-align: right;\">\n",
       "      <th></th>\n",
       "      <th>subject#</th>\n",
       "      <th>age</th>\n",
       "      <th>sex</th>\n",
       "      <th>test_time</th>\n",
       "      <th>motor_UPDRS</th>\n",
       "      <th>total_UPDRS</th>\n",
       "      <th>Jitter(%)</th>\n",
       "      <th>Jitter(Abs)</th>\n",
       "      <th>Jitter:RAP</th>\n",
       "      <th>Jitter:PPQ5</th>\n",
       "      <th>...</th>\n",
       "      <th>Shimmer(dB)</th>\n",
       "      <th>Shimmer:APQ3</th>\n",
       "      <th>Shimmer:APQ5</th>\n",
       "      <th>Shimmer:APQ11</th>\n",
       "      <th>Shimmer:DDA</th>\n",
       "      <th>NHR</th>\n",
       "      <th>HNR</th>\n",
       "      <th>RPDE</th>\n",
       "      <th>DFA</th>\n",
       "      <th>PPE</th>\n",
       "    </tr>\n",
       "  </thead>\n",
       "  <tbody>\n",
       "    <tr>\n",
       "      <th>0</th>\n",
       "      <td>1</td>\n",
       "      <td>72</td>\n",
       "      <td>0</td>\n",
       "      <td>5.6431</td>\n",
       "      <td>28.199</td>\n",
       "      <td>34.398</td>\n",
       "      <td>0.00662</td>\n",
       "      <td>0.000034</td>\n",
       "      <td>0.00401</td>\n",
       "      <td>0.00317</td>\n",
       "      <td>...</td>\n",
       "      <td>0.230</td>\n",
       "      <td>0.01438</td>\n",
       "      <td>0.01309</td>\n",
       "      <td>0.01662</td>\n",
       "      <td>0.04314</td>\n",
       "      <td>0.014290</td>\n",
       "      <td>21.640</td>\n",
       "      <td>0.41888</td>\n",
       "      <td>0.54842</td>\n",
       "      <td>0.16006</td>\n",
       "    </tr>\n",
       "    <tr>\n",
       "      <th>1</th>\n",
       "      <td>1</td>\n",
       "      <td>72</td>\n",
       "      <td>0</td>\n",
       "      <td>12.6660</td>\n",
       "      <td>28.447</td>\n",
       "      <td>34.894</td>\n",
       "      <td>0.00300</td>\n",
       "      <td>0.000017</td>\n",
       "      <td>0.00132</td>\n",
       "      <td>0.00150</td>\n",
       "      <td>...</td>\n",
       "      <td>0.179</td>\n",
       "      <td>0.00994</td>\n",
       "      <td>0.01072</td>\n",
       "      <td>0.01689</td>\n",
       "      <td>0.02982</td>\n",
       "      <td>0.011112</td>\n",
       "      <td>27.183</td>\n",
       "      <td>0.43493</td>\n",
       "      <td>0.56477</td>\n",
       "      <td>0.10810</td>\n",
       "    </tr>\n",
       "    <tr>\n",
       "      <th>2</th>\n",
       "      <td>1</td>\n",
       "      <td>72</td>\n",
       "      <td>0</td>\n",
       "      <td>19.6810</td>\n",
       "      <td>28.695</td>\n",
       "      <td>35.389</td>\n",
       "      <td>0.00481</td>\n",
       "      <td>0.000025</td>\n",
       "      <td>0.00205</td>\n",
       "      <td>0.00208</td>\n",
       "      <td>...</td>\n",
       "      <td>0.181</td>\n",
       "      <td>0.00734</td>\n",
       "      <td>0.00844</td>\n",
       "      <td>0.01458</td>\n",
       "      <td>0.02202</td>\n",
       "      <td>0.020220</td>\n",
       "      <td>23.047</td>\n",
       "      <td>0.46222</td>\n",
       "      <td>0.54405</td>\n",
       "      <td>0.21014</td>\n",
       "    </tr>\n",
       "    <tr>\n",
       "      <th>3</th>\n",
       "      <td>1</td>\n",
       "      <td>72</td>\n",
       "      <td>0</td>\n",
       "      <td>25.6470</td>\n",
       "      <td>28.905</td>\n",
       "      <td>35.810</td>\n",
       "      <td>0.00528</td>\n",
       "      <td>0.000027</td>\n",
       "      <td>0.00191</td>\n",
       "      <td>0.00264</td>\n",
       "      <td>...</td>\n",
       "      <td>0.327</td>\n",
       "      <td>0.01106</td>\n",
       "      <td>0.01265</td>\n",
       "      <td>0.01963</td>\n",
       "      <td>0.03317</td>\n",
       "      <td>0.027837</td>\n",
       "      <td>24.445</td>\n",
       "      <td>0.48730</td>\n",
       "      <td>0.57794</td>\n",
       "      <td>0.33277</td>\n",
       "    </tr>\n",
       "    <tr>\n",
       "      <th>4</th>\n",
       "      <td>1</td>\n",
       "      <td>72</td>\n",
       "      <td>0</td>\n",
       "      <td>33.6420</td>\n",
       "      <td>29.187</td>\n",
       "      <td>36.375</td>\n",
       "      <td>0.00335</td>\n",
       "      <td>0.000020</td>\n",
       "      <td>0.00093</td>\n",
       "      <td>0.00130</td>\n",
       "      <td>...</td>\n",
       "      <td>0.176</td>\n",
       "      <td>0.00679</td>\n",
       "      <td>0.00929</td>\n",
       "      <td>0.01819</td>\n",
       "      <td>0.02036</td>\n",
       "      <td>0.011625</td>\n",
       "      <td>26.126</td>\n",
       "      <td>0.47188</td>\n",
       "      <td>0.56122</td>\n",
       "      <td>0.19361</td>\n",
       "    </tr>\n",
       "  </tbody>\n",
       "</table>\n",
       "<p>5 rows × 22 columns</p>\n",
       "</div>"
      ],
      "text/plain": [
       "   subject#  age  sex  test_time  motor_UPDRS  total_UPDRS  Jitter(%)  \\\n",
       "0         1   72    0     5.6431       28.199       34.398    0.00662   \n",
       "1         1   72    0    12.6660       28.447       34.894    0.00300   \n",
       "2         1   72    0    19.6810       28.695       35.389    0.00481   \n",
       "3         1   72    0    25.6470       28.905       35.810    0.00528   \n",
       "4         1   72    0    33.6420       29.187       36.375    0.00335   \n",
       "\n",
       "   Jitter(Abs)  Jitter:RAP  Jitter:PPQ5  ...  Shimmer(dB)  Shimmer:APQ3  \\\n",
       "0     0.000034     0.00401      0.00317  ...        0.230       0.01438   \n",
       "1     0.000017     0.00132      0.00150  ...        0.179       0.00994   \n",
       "2     0.000025     0.00205      0.00208  ...        0.181       0.00734   \n",
       "3     0.000027     0.00191      0.00264  ...        0.327       0.01106   \n",
       "4     0.000020     0.00093      0.00130  ...        0.176       0.00679   \n",
       "\n",
       "   Shimmer:APQ5  Shimmer:APQ11  Shimmer:DDA       NHR     HNR     RPDE  \\\n",
       "0       0.01309        0.01662      0.04314  0.014290  21.640  0.41888   \n",
       "1       0.01072        0.01689      0.02982  0.011112  27.183  0.43493   \n",
       "2       0.00844        0.01458      0.02202  0.020220  23.047  0.46222   \n",
       "3       0.01265        0.01963      0.03317  0.027837  24.445  0.48730   \n",
       "4       0.00929        0.01819      0.02036  0.011625  26.126  0.47188   \n",
       "\n",
       "       DFA      PPE  \n",
       "0  0.54842  0.16006  \n",
       "1  0.56477  0.10810  \n",
       "2  0.54405  0.21014  \n",
       "3  0.57794  0.33277  \n",
       "4  0.56122  0.19361  \n",
       "\n",
       "[5 rows x 22 columns]"
      ]
     },
     "execution_count": 170,
     "metadata": {},
     "output_type": "execute_result"
    }
   ],
   "source": [
    "parkinsons_data.head()"
   ]
  },
  {
   "cell_type": "markdown",
   "id": "d3e18009",
   "metadata": {},
   "source": [
    "There is a feature called \"subject\", which shows us each patient . But its layout does not make sense (it is unordered), so it can then confuse the training . So we need to remove it ."
   ]
  },
  {
   "cell_type": "code",
   "execution_count": 171,
   "id": "e8b3cfaf",
   "metadata": {},
   "outputs": [
    {
     "data": {
      "text/html": [
       "<div>\n",
       "<style scoped>\n",
       "    .dataframe tbody tr th:only-of-type {\n",
       "        vertical-align: middle;\n",
       "    }\n",
       "\n",
       "    .dataframe tbody tr th {\n",
       "        vertical-align: top;\n",
       "    }\n",
       "\n",
       "    .dataframe thead th {\n",
       "        text-align: right;\n",
       "    }\n",
       "</style>\n",
       "<table border=\"1\" class=\"dataframe\">\n",
       "  <thead>\n",
       "    <tr style=\"text-align: right;\">\n",
       "      <th></th>\n",
       "      <th>age</th>\n",
       "      <th>sex</th>\n",
       "      <th>test_time</th>\n",
       "      <th>motor_UPDRS</th>\n",
       "      <th>total_UPDRS</th>\n",
       "      <th>Jitter(%)</th>\n",
       "      <th>Jitter(Abs)</th>\n",
       "      <th>Jitter:RAP</th>\n",
       "      <th>Jitter:PPQ5</th>\n",
       "      <th>Jitter:DDP</th>\n",
       "      <th>...</th>\n",
       "      <th>Shimmer(dB)</th>\n",
       "      <th>Shimmer:APQ3</th>\n",
       "      <th>Shimmer:APQ5</th>\n",
       "      <th>Shimmer:APQ11</th>\n",
       "      <th>Shimmer:DDA</th>\n",
       "      <th>NHR</th>\n",
       "      <th>HNR</th>\n",
       "      <th>RPDE</th>\n",
       "      <th>DFA</th>\n",
       "      <th>PPE</th>\n",
       "    </tr>\n",
       "  </thead>\n",
       "  <tbody>\n",
       "    <tr>\n",
       "      <th>0</th>\n",
       "      <td>72</td>\n",
       "      <td>0</td>\n",
       "      <td>5.6431</td>\n",
       "      <td>28.199</td>\n",
       "      <td>34.398</td>\n",
       "      <td>0.00662</td>\n",
       "      <td>0.000034</td>\n",
       "      <td>0.00401</td>\n",
       "      <td>0.00317</td>\n",
       "      <td>0.01204</td>\n",
       "      <td>...</td>\n",
       "      <td>0.230</td>\n",
       "      <td>0.01438</td>\n",
       "      <td>0.01309</td>\n",
       "      <td>0.01662</td>\n",
       "      <td>0.04314</td>\n",
       "      <td>0.014290</td>\n",
       "      <td>21.640</td>\n",
       "      <td>0.41888</td>\n",
       "      <td>0.54842</td>\n",
       "      <td>0.16006</td>\n",
       "    </tr>\n",
       "    <tr>\n",
       "      <th>1</th>\n",
       "      <td>72</td>\n",
       "      <td>0</td>\n",
       "      <td>12.6660</td>\n",
       "      <td>28.447</td>\n",
       "      <td>34.894</td>\n",
       "      <td>0.00300</td>\n",
       "      <td>0.000017</td>\n",
       "      <td>0.00132</td>\n",
       "      <td>0.00150</td>\n",
       "      <td>0.00395</td>\n",
       "      <td>...</td>\n",
       "      <td>0.179</td>\n",
       "      <td>0.00994</td>\n",
       "      <td>0.01072</td>\n",
       "      <td>0.01689</td>\n",
       "      <td>0.02982</td>\n",
       "      <td>0.011112</td>\n",
       "      <td>27.183</td>\n",
       "      <td>0.43493</td>\n",
       "      <td>0.56477</td>\n",
       "      <td>0.10810</td>\n",
       "    </tr>\n",
       "    <tr>\n",
       "      <th>2</th>\n",
       "      <td>72</td>\n",
       "      <td>0</td>\n",
       "      <td>19.6810</td>\n",
       "      <td>28.695</td>\n",
       "      <td>35.389</td>\n",
       "      <td>0.00481</td>\n",
       "      <td>0.000025</td>\n",
       "      <td>0.00205</td>\n",
       "      <td>0.00208</td>\n",
       "      <td>0.00616</td>\n",
       "      <td>...</td>\n",
       "      <td>0.181</td>\n",
       "      <td>0.00734</td>\n",
       "      <td>0.00844</td>\n",
       "      <td>0.01458</td>\n",
       "      <td>0.02202</td>\n",
       "      <td>0.020220</td>\n",
       "      <td>23.047</td>\n",
       "      <td>0.46222</td>\n",
       "      <td>0.54405</td>\n",
       "      <td>0.21014</td>\n",
       "    </tr>\n",
       "    <tr>\n",
       "      <th>3</th>\n",
       "      <td>72</td>\n",
       "      <td>0</td>\n",
       "      <td>25.6470</td>\n",
       "      <td>28.905</td>\n",
       "      <td>35.810</td>\n",
       "      <td>0.00528</td>\n",
       "      <td>0.000027</td>\n",
       "      <td>0.00191</td>\n",
       "      <td>0.00264</td>\n",
       "      <td>0.00573</td>\n",
       "      <td>...</td>\n",
       "      <td>0.327</td>\n",
       "      <td>0.01106</td>\n",
       "      <td>0.01265</td>\n",
       "      <td>0.01963</td>\n",
       "      <td>0.03317</td>\n",
       "      <td>0.027837</td>\n",
       "      <td>24.445</td>\n",
       "      <td>0.48730</td>\n",
       "      <td>0.57794</td>\n",
       "      <td>0.33277</td>\n",
       "    </tr>\n",
       "    <tr>\n",
       "      <th>4</th>\n",
       "      <td>72</td>\n",
       "      <td>0</td>\n",
       "      <td>33.6420</td>\n",
       "      <td>29.187</td>\n",
       "      <td>36.375</td>\n",
       "      <td>0.00335</td>\n",
       "      <td>0.000020</td>\n",
       "      <td>0.00093</td>\n",
       "      <td>0.00130</td>\n",
       "      <td>0.00278</td>\n",
       "      <td>...</td>\n",
       "      <td>0.176</td>\n",
       "      <td>0.00679</td>\n",
       "      <td>0.00929</td>\n",
       "      <td>0.01819</td>\n",
       "      <td>0.02036</td>\n",
       "      <td>0.011625</td>\n",
       "      <td>26.126</td>\n",
       "      <td>0.47188</td>\n",
       "      <td>0.56122</td>\n",
       "      <td>0.19361</td>\n",
       "    </tr>\n",
       "  </tbody>\n",
       "</table>\n",
       "<p>5 rows × 21 columns</p>\n",
       "</div>"
      ],
      "text/plain": [
       "   age  sex  test_time  motor_UPDRS  total_UPDRS  Jitter(%)  Jitter(Abs)  \\\n",
       "0   72    0     5.6431       28.199       34.398    0.00662     0.000034   \n",
       "1   72    0    12.6660       28.447       34.894    0.00300     0.000017   \n",
       "2   72    0    19.6810       28.695       35.389    0.00481     0.000025   \n",
       "3   72    0    25.6470       28.905       35.810    0.00528     0.000027   \n",
       "4   72    0    33.6420       29.187       36.375    0.00335     0.000020   \n",
       "\n",
       "   Jitter:RAP  Jitter:PPQ5  Jitter:DDP  ...  Shimmer(dB)  Shimmer:APQ3  \\\n",
       "0     0.00401      0.00317     0.01204  ...        0.230       0.01438   \n",
       "1     0.00132      0.00150     0.00395  ...        0.179       0.00994   \n",
       "2     0.00205      0.00208     0.00616  ...        0.181       0.00734   \n",
       "3     0.00191      0.00264     0.00573  ...        0.327       0.01106   \n",
       "4     0.00093      0.00130     0.00278  ...        0.176       0.00679   \n",
       "\n",
       "   Shimmer:APQ5  Shimmer:APQ11  Shimmer:DDA       NHR     HNR     RPDE  \\\n",
       "0       0.01309        0.01662      0.04314  0.014290  21.640  0.41888   \n",
       "1       0.01072        0.01689      0.02982  0.011112  27.183  0.43493   \n",
       "2       0.00844        0.01458      0.02202  0.020220  23.047  0.46222   \n",
       "3       0.01265        0.01963      0.03317  0.027837  24.445  0.48730   \n",
       "4       0.00929        0.01819      0.02036  0.011625  26.126  0.47188   \n",
       "\n",
       "       DFA      PPE  \n",
       "0  0.54842  0.16006  \n",
       "1  0.56477  0.10810  \n",
       "2  0.54405  0.21014  \n",
       "3  0.57794  0.33277  \n",
       "4  0.56122  0.19361  \n",
       "\n",
       "[5 rows x 21 columns]"
      ]
     },
     "execution_count": 171,
     "metadata": {},
     "output_type": "execute_result"
    }
   ],
   "source": [
    "parkinsons_data = parkinsons_data.drop(['subject#'], axis=1)\n",
    "parkinsons_data.head()"
   ]
  },
  {
   "cell_type": "markdown",
   "id": "5426a797",
   "metadata": {},
   "source": [
    "we make sure that there are no missing values in the data."
   ]
  },
  {
   "cell_type": "code",
   "execution_count": 172,
   "id": "96dc4d89",
   "metadata": {},
   "outputs": [
    {
     "data": {
      "text/plain": [
       "age              0\n",
       "sex              0\n",
       "test_time        0\n",
       "motor_UPDRS      0\n",
       "total_UPDRS      0\n",
       "Jitter(%)        0\n",
       "Jitter(Abs)      0\n",
       "Jitter:RAP       0\n",
       "Jitter:PPQ5      0\n",
       "Jitter:DDP       0\n",
       "Shimmer          0\n",
       "Shimmer(dB)      0\n",
       "Shimmer:APQ3     0\n",
       "Shimmer:APQ5     0\n",
       "Shimmer:APQ11    0\n",
       "Shimmer:DDA      0\n",
       "NHR              0\n",
       "HNR              0\n",
       "RPDE             0\n",
       "DFA              0\n",
       "PPE              0\n",
       "dtype: int64"
      ]
     },
     "execution_count": 172,
     "metadata": {},
     "output_type": "execute_result"
    }
   ],
   "source": [
    "parkinsons_data.isnull().sum()"
   ]
  },
  {
   "cell_type": "markdown",
   "id": "19e75e08",
   "metadata": {},
   "source": [
    " luckily there are no missing values at all, so we will not worry about this problem."
   ]
  },
  {
   "attachments": {},
   "cell_type": "markdown",
   "id": "c9a4f994",
   "metadata": {},
   "source": [
    "------------------------------------------------------\n",
    "We divide the table into input and output elements..\n",
    "X is : features, and \n",
    "Y is : target (motor UPDRS and total UPDRS)\n"
   ]
  },
  {
   "cell_type": "code",
   "execution_count": 174,
   "id": "d165c7fb",
   "metadata": {},
   "outputs": [],
   "source": [
    "arr = parkinsons_data.values\n",
    "X1 = arr[:,0:4] \n",
    "X2 = arr[:,6:]  \n",
    "X = np.hstack((X1,X2))  \n",
    "Y = arr[:,4:6]  "
   ]
  },
  {
   "cell_type": "code",
   "execution_count": 175,
   "id": "446d08af",
   "metadata": {},
   "outputs": [
    {
     "data": {
      "text/plain": [
       "(5875, 19)"
      ]
     },
     "execution_count": 175,
     "metadata": {},
     "output_type": "execute_result"
    }
   ],
   "source": [
    "X.shape"
   ]
  },
  {
   "cell_type": "code",
   "execution_count": 176,
   "id": "39b106e7",
   "metadata": {},
   "outputs": [
    {
     "data": {
      "text/plain": [
       "(5875, 2)"
      ]
     },
     "execution_count": 176,
     "metadata": {},
     "output_type": "execute_result"
    }
   ],
   "source": [
    "Y.shape"
   ]
  },
  {
   "cell_type": "markdown",
   "id": "9211bd21",
   "metadata": {},
   "source": [
    "Then we split our data into train and test, as shown below.our train set is 30% of our original data set."
   ]
  },
  {
   "cell_type": "code",
   "execution_count": 177,
   "id": "15c0c015",
   "metadata": {},
   "outputs": [
    {
     "name": "stdout",
     "output_type": "stream",
     "text": [
      "Train (4112, 19) (4112, 2)\n",
      "Test (1763, 19) (1763, 2)\n"
     ]
    }
   ],
   "source": [
    "# split into train and test sets\n",
    "X_train, X_test, y_train, y_test = train_test_split(X, Y, test_size=0.3, random_state=1)\n",
    "\n",
    "print('Train', X_train.shape, y_train.shape)\n",
    "print('Test', X_test.shape, y_test.shape)"
   ]
  },
  {
   "cell_type": "markdown",
   "id": "4cbd80ba",
   "metadata": {},
   "source": [
    "    Feature Selection\n",
    "    ---------------------------------------------------------------------------------------\n",
    "    Filter method\n",
    " the correlations between our data  with the heatmap"
   ]
  },
  {
   "cell_type": "code",
   "execution_count": 178,
   "id": "4c25e863",
   "metadata": {},
   "outputs": [
    {
     "data": {
      "image/png": "[encoded data removed]",
      "text/plain": [
       "<Figure size 864x720 with 2 Axes>"
      ]
     },
     "metadata": {},
     "output_type": "display_data"
    }
   ],
   "source": [
    "import matplotlib\n",
    "import matplotlib.pyplot as plt\n",
    "import seaborn as sns\n",
    "\n",
    "#Using Pearson Correlation\n",
    "plt.figure(figsize=(12,10))\n",
    "cor = parkinsons_data.corr()\n",
    "sns.heatmap(cor, annot=False,cmap=plt.cm.Reds)\n",
    "plt.show()"
   ]
  },
  {
   "cell_type": "markdown",
   "id": "84bc0fe1",
   "metadata": {},
   "source": [
    "we can put a threshold and see which of our random variables are more positively correlated with the random variables y we want to predict.\n",
    "\n",
    "In this case we set 0.1 as threshlold. This is also a way to choose features."
   ]
  },
  {
   "cell_type": "code",
   "execution_count": 179,
   "id": "b86593a6",
   "metadata": {},
   "outputs": [
    {
     "data": {
      "text/plain": [
       "age              0.273665\n",
       "motor_UPDRS      1.000000\n",
       "total_UPDRS      0.947231\n",
       "Shimmer          0.102349\n",
       "Shimmer(dB)      0.110076\n",
       "Shimmer:APQ11    0.136560\n",
       "HNR              0.157029\n",
       "RPDE             0.128607\n",
       "DFA              0.116242\n",
       "PPE              0.162433\n",
       "Name: motor_UPDRS, dtype: float64"
      ]
     },
     "execution_count": 179,
     "metadata": {},
     "output_type": "execute_result"
    }
   ],
   "source": [
    "#Correlation with output variable\n",
    "cor_target = abs(cor['motor_UPDRS'])\n",
    "#Selecting highly correlated features\n",
    "relevant_features = cor_target[cor_target>0.1]\n",
    "relevant_features #.sort_values( ascending=False)"
   ]
  },
  {
   "cell_type": "code",
   "execution_count": 180,
   "id": "4eca06ab",
   "metadata": {},
   "outputs": [
    {
     "data": {
      "text/plain": [
       "age              0.310290\n",
       "motor_UPDRS      0.947231\n",
       "total_UPDRS      1.000000\n",
       "Shimmer:APQ11    0.120838\n",
       "HNR              0.162117\n",
       "RPDE             0.156897\n",
       "DFA              0.113475\n",
       "PPE              0.156195\n",
       "Name: total_UPDRS, dtype: float64"
      ]
     },
     "execution_count": 180,
     "metadata": {},
     "output_type": "execute_result"
    }
   ],
   "source": [
    "#Correlation with output variable\n",
    "cor_target = abs(cor['total_UPDRS'])\n",
    "#Selecting highly correlated features\n",
    "relevant_features = cor_target[cor_target>0.1]\n",
    "relevant_features #.sort_values( ascending=False)"
   ]
  },
  {
   "cell_type": "markdown",
   "id": "642293a1",
   "metadata": {},
   "source": [
    "As we can see,  these are only  features that are highly correlated with the output variables. Hence we will drop all other features apart from these."
   ]
  },
  {
   "cell_type": "markdown",
   "id": "5528d21e",
   "metadata": {},
   "source": [
    "    Wrapper Method - Backward Elimination\n",
    "Here we examine the performance of our algorithm through its metric p-value. If the p-value is greater than 0.05 then we remove the attribute, otherwise we keep it."
   ]
  },
  {
   "cell_type": "code",
   "execution_count": 147,
   "id": "070eb49f",
   "metadata": {},
   "outputs": [
    {
     "data": {
      "text/plain": [
       "array([1.33450984e-02, 9.59188965e-27, 4.45728273e-23, 2.53012005e-02,\n",
       "       0.00000000e+00, 3.08905155e-04, 7.01526691e-01, 9.11879736e-02,\n",
       "       6.99734647e-01, 5.96002351e-01, 5.07295894e-02, 5.47363456e-01,\n",
       "       3.77226687e-07, 2.62546302e-07, 5.47178480e-01, 1.16692440e-01,\n",
       "       6.47388950e-06, 3.21711429e-04, 5.77914083e-03, 1.11540427e-03])"
      ]
     },
     "execution_count": 147,
     "metadata": {},
     "output_type": "execute_result"
    }
   ],
   "source": [
    "import statsmodels.api as sm\n",
    "from sklearn.model_selection import train_test_split\n",
    "from sklearn.linear_model import LinearRegression\n",
    "from sklearn.feature_selection import RFE\n",
    "from sklearn.linear_model import RidgeCV, LassoCV, Ridge, Lasso\n",
    "\n",
    "#Adding constant column of ones, mandatory for sm.OLS model\n",
    "X_1 = sm.add_constant(X_train)\n",
    "#Fitting sm.OLS model\n",
    "model = sm.OLS(y_train[:,0],X_1).fit()\n",
    "model.pvalues"
   ]
  },
  {
   "cell_type": "markdown",
   "id": "2cd486b5",
   "metadata": {},
   "source": [
    "We can create a loop and repeat this process until we come up with the best possible model."
   ]
  },
  {
   "cell_type": "code",
   "execution_count": 161,
   "id": "45f8b1ed",
   "metadata": {},
   "outputs": [
    {
     "name": "stdout",
     "output_type": "stream",
     "text": [
      "[0, 1, 2, 3, 4, 6, 9, 11, 12, 15, 16, 17, 18]\n"
     ]
    }
   ],
   "source": [
    "#Backward Elimination\n",
    "cols = list(pd.DataFrame(X_train).columns)\n",
    "pmax = 1\n",
    "while (len(cols)>0):\n",
    "    p= []\n",
    "    X_1 = pd.DataFrame(X_train)[cols]\n",
    "    X_1 = sm.add_constant(X_1)\n",
    "    model = sm.OLS(pd.DataFrame(y_train[:,0]),X_1).fit()\n",
    "    p = pd.Series(model.pvalues.values[1:],index = cols)      \n",
    "    pmax = max(p)\n",
    "    feature_with_p_max = p.idxmax()\n",
    "    if(pmax>0.05):\n",
    "        cols.remove(feature_with_p_max)\n",
    "    else:\n",
    "        break\n",
    "selected_features_BE = cols\n",
    "print(selected_features_BE)"
   ]
  },
  {
   "cell_type": "markdown",
   "id": "65d0443e",
   "metadata": {},
   "source": [
    "    Embedded Method"
   ]
  },
  {
   "cell_type": "code",
   "execution_count": 183,
   "id": "0ae0b0b1",
   "metadata": {},
   "outputs": [
    {
     "name": "stdout",
     "output_type": "stream",
     "text": [
      "Best alpha using built-in LassoCV: 0.081302\n",
      "Best score using built-in LassoCV: 0.902880\n"
     ]
    }
   ],
   "source": [
    "reg = LassoCV()\n",
    "reg.fit(X_train, y_train[:,0])\n",
    "print(\"Best alpha using built-in LassoCV: %f\" % reg.alpha_)\n",
    "print(\"Best score using built-in LassoCV: %f\" %reg.score(X_train,y_train[:,0]))\n",
    "coef = pd.Series(reg.coef_, index = pd.DataFrame(X_train).columns)"
   ]
  },
  {
   "cell_type": "code",
   "execution_count": 184,
   "id": "28704a4b",
   "metadata": {},
   "outputs": [
    {
     "name": "stdout",
     "output_type": "stream",
     "text": [
      "Lasso picked 5 variables and eliminated the other 14 variables\n"
     ]
    }
   ],
   "source": [
    "print(\"Lasso picked \" + str(sum(coef != 0)) + \" variables and eliminated the other \" +  str(sum(coef == 0)) + \" variables\")"
   ]
  },
  {
   "cell_type": "code",
   "execution_count": 185,
   "id": "20a53b85",
   "metadata": {},
   "outputs": [
    {
     "data": {
      "text/plain": [
       "Text(0.5, 1.0, 'Feature importance using Lasso Model')"
      ]
     },
     "execution_count": 185,
     "metadata": {},
     "output_type": "execute_result"
    },
    {
     "data": {
      "image/png": "[encoded data removed]",
      "text/plain": [
       "<Figure size 576x720 with 1 Axes>"
      ]
     },
     "metadata": {},
     "output_type": "display_data"
    }
   ],
   "source": [
    "imp_coef =coef\n",
    "import matplotlib\n",
    "matplotlib.rcParams['figure.figsize'] = (8.0, 10.0)\n",
    "imp_coef.plot(kind = \"barh\")\n",
    "plt.title(\"Feature importance using Lasso Model\")"
   ]
  },
  {
   "cell_type": "markdown",
   "id": "c35c4b4e",
   "metadata": {},
   "source": [
    "--------------------------------------------------------------------------------------------------------------------\n",
    "We will  keep only those features that we found in the backward elimination"
   ]
  },
  {
   "cell_type": "code",
   "execution_count": 186,
   "id": "4eca0a5d",
   "metadata": {},
   "outputs": [],
   "source": [
    "X_train = pd.DataFrame(X_train)\n",
    "X_train = X_train[[0, 1, 2, 3, 4, 6, 9, 11, 12, 15, 16, 17, 18]]\n",
    "X_train = X_train.values\n",
    "\n",
    "X_test = pd.DataFrame(X_test)\n",
    "X_test = X_test[[0, 1, 2, 3, 4, 6, 9, 11, 12, 15, 16, 17, 18]]\n",
    "X_test = X_test.values"
   ]
  },
  {
   "cell_type": "markdown",
   "id": "32f670a6",
   "metadata": {},
   "source": [
    "Model training \n",
    "--"
   ]
  },
  {
   "cell_type": "markdown",
   "id": "68800bfe",
   "metadata": {},
   "source": [
    "\n",
    " In this part we will use ML models, so  they learn from our data and make predictions. \n",
    "We have also created lists of R2 and  MSE to calculate the metrics for training and test, also times [] to calculate the time of prediction"
   ]
  },
  {
   "cell_type": "code",
   "execution_count": 187,
   "id": "3821faec",
   "metadata": {},
   "outputs": [],
   "source": [
    "names = ['Linear','Polynomial', 'Tree', 'kNN', 'Forest', 'BGR']\n",
    "r2 = []\n",
    "MSE = []\n",
    "times = []\n"
   ]
  },
  {
   "cell_type": "markdown",
   "id": "99d4300c",
   "metadata": {},
   "source": [
    "    LinearRegression"
   ]
  },
  {
   "cell_type": "code",
   "execution_count": 188,
   "id": "2d160e45",
   "metadata": {},
   "outputs": [
    {
     "name": "stdout",
     "output_type": "stream",
     "text": [
      "The model performance for the training set\n",
      "-------------------------------------------\n",
      "MSE of training set is 5.279318165687927\n",
      "R2 score of training set is 93.79%\n",
      "\n",
      "\n",
      "The model performance for the test set\n",
      "-------------------------------------------\n",
      "MSE of training set is 5.418715386293863\n",
      "R2 score of test set is 93.95%\n",
      "-------------------------------------------\n",
      "Total time fit and predict:0.008082389831542969 seconds\n"
     ]
    }
   ],
   "source": [
    "start_time = time.time()\n",
    "reg_model = LinearRegression()\n",
    "reg_model.fit(X_train, y_train)\n",
    "  \n",
    "# predicting on training data-set\n",
    "reg_train_pred = reg_model.predict(X_train)\n",
    "# predicting on test data-set\n",
    "reg_test_pred = reg_model.predict(X_test)\n",
    "\n",
    "# evaluating the model on training dataset\n",
    "rmse_train = mean_squared_error(y_train, reg_train_pred) \n",
    "r2_train = r2_score(y_train, reg_train_pred)\n",
    "  \n",
    "  # evaluating the model on test dataset\n",
    "rmse_test =mean_squared_error(y_test, reg_test_pred)\n",
    "r2_test = r2_score(y_test, reg_test_pred)\n",
    "\n",
    "times.append(time.time() - start_time)\n",
    "\n",
    "print(\"The model performance for the training set\")\n",
    "print(\"-------------------------------------------\")\n",
    "print(\"MSE of training set is {}\".format(rmse_train))\n",
    "print(\"R2 score of training set is {:.2%}\".format(r2_train))\n",
    "  \n",
    "print(\"\\n\")\n",
    "  \n",
    "print(\"The model performance for the test set\")\n",
    "print(\"-------------------------------------------\")\n",
    "print(\"MSE of training set is {}\".format(rmse_test))\n",
    "print(\"R2 score of test set is {:.2%}\".format(r2_test))\n",
    "print(\"-------------------------------------------\")\n",
    "print(\"Total time fit and predict:% s seconds\" % (time.time() - start_time))\n",
    "\n",
    "r2.append(r2_test)\n",
    "MSE.append(rmse_test)"
   ]
  },
  {
   "cell_type": "markdown",
   "id": "b7323941",
   "metadata": {},
   "source": [
    "    \n",
    "    Polynomial Regression"
   ]
  },
  {
   "cell_type": "code",
   "execution_count": 152,
   "id": "1e68fa33",
   "metadata": {},
   "outputs": [
    {
     "name": "stdout",
     "output_type": "stream",
     "text": [
      "The model performance for the training set\n",
      "-------------------------------------------\n",
      "MSE of training set is 5.279318165687927\n",
      "R2 score of training set is 93.79%\n",
      "\n",
      "\n",
      "The model performance for the test set\n",
      "-------------------------------------------\n",
      "MSE of training set is 5.418715386293863\n",
      "R2 score of test set is 92.12%\n",
      "-------------------------------------------\n",
      "Total time fit and predict:0.03826403617858887 seconds\n"
     ]
    }
   ],
   "source": [
    "poly_features= PolynomialFeatures(degree=2)\n",
    "X_train_poly = poly_features.fit_transform(X_train)\n",
    "X_test_poly = poly_features.fit_transform(X_test)\n",
    "\n",
    "start_time = time.time()\n",
    "\n",
    "poly_model = MultiOutputRegressor(LinearRegression())\n",
    "poly_model.fit(X_train_poly, y_train)\n",
    "  \n",
    "  # predicting on training data-set\n",
    "poly_train_predicted = poly_model.predict(X_train_poly)\n",
    "  \n",
    "  # predicting on test data-set\n",
    "poly_test_predict = poly_model.predict(X_test_poly)\n",
    "  \n",
    "  # evaluating the model on training dataset\n",
    "pmse_train = mean_squared_error(y_train, poly_train_predicted) \n",
    "pr2_train = r2_score(y_train, poly_train_predicted)\n",
    "  \n",
    "  # evaluating the model on test dataset\n",
    "rpmse_test =mean_squared_error(y_test, poly_test_predict)\n",
    "r2_test = r2_score(y_test, poly_test_predict)\n",
    "  \n",
    "times.append(time.time() - start_time)\n",
    "\n",
    "print(\"The model performance for the training set\")\n",
    "print(\"-------------------------------------------\")\n",
    "print(\"MSE of training set is {}\".format(rmse_train))\n",
    "print(\"R2 score of training set is {:.2%}\".format(r2_train))\n",
    "  \n",
    "print(\"\\n\")\n",
    "  \n",
    "print(\"The model performance for the test set\")\n",
    "print(\"-------------------------------------------\")\n",
    "print(\"MSE of training set is {}\".format(rmse_test))\n",
    "print(\"R2 score of test set is {:.2%}\".format(r2_test))\n",
    "print(\"-------------------------------------------\")\n",
    "print(\"Total time fit and predict:% s seconds\" % (time.time() - start_time))\n",
    "\n",
    "r2.append(r2_test)\n",
    "MSE.append(rmse_test)"
   ]
  },
  {
   "cell_type": "markdown",
   "id": "4a9af9e0",
   "metadata": {},
   "source": [
    "    KNN"
   ]
  },
  {
   "cell_type": "code",
   "execution_count": 164,
   "id": "2b18f8f7",
   "metadata": {},
   "outputs": [
    {
     "name": "stdout",
     "output_type": "stream",
     "text": [
      "The model performance for the training set\n",
      "-------------------------------------------\n",
      "MSE of training set is 0.5585916792169915\n",
      "R2 score of training set is 89.71%\n",
      "\n",
      "\n",
      "The model performance for the test set\n",
      "-------------------------------------------\n",
      "MSE of training set is 1.7660998678245687\n",
      "R2 score of test set is 79.10%\n",
      "-------------------------------------------\n",
      "Total time fit and predict:0.06552934646606445 seconds\n"
     ]
    }
   ],
   "source": [
    "start_time = time.time()\n",
    "\n",
    "knn_model = MultiOutputRegressor(KNeighborsRegressor(n_neighbors=3))\n",
    "knn_model.fit(X_train, y_train)\n",
    "\n",
    "\n",
    "# predicting on training data-set\n",
    "knn_train_pred = knn_model.predict(X_train)\n",
    "# predicting on test data-set\n",
    "knn_test_pred = knn_model.predict(X_test)\n",
    "\n",
    "# evaluating the model on training dataset\n",
    "rmse_train = mean_squared_error(y_train, knn_train_pred) \n",
    "r2_train = r2_score(y_train, knn_train_pred)\n",
    "  \n",
    "  # evaluating the model on test dataset\n",
    "rmse_test =mean_squared_error(y_test, knn_test_pred)\n",
    "r2_test = r2_score(y_test, knn_test_pred)\n",
    "\n",
    "times.append(time.time() - start_time)\n",
    "\n",
    "  \n",
    "print(\"The model performance for the training set\")\n",
    "print(\"-------------------------------------------\")\n",
    "\n",
    "print(\"MSE of training set is {}\".format(rmse_train))\n",
    "print(\"R2 score of training set is {:.2%}\".format(r2_train))\n",
    "  \n",
    "print(\"\\n\")\n",
    "  \n",
    "print(\"The model performance for the test set\")\n",
    "print(\"-------------------------------------------\")\n",
    "print(\"MSE of training set is {}\".format(rmse_test))\n",
    "print(\"R2 score of test set is {:.2%}\".format(r2_test))\n",
    "print(\"-------------------------------------------\")\n",
    "print(\"Total time fit and predict:% s seconds\" % (time.time() - start_time))\n",
    "\n",
    "r2.append(r2_test)\n",
    "MSE.append(rmse_test)"
   ]
  },
  {
   "cell_type": "markdown",
   "id": "5544253d",
   "metadata": {},
   "source": [
    "    Decission Tree Regressor"
   ]
  },
  {
   "cell_type": "code",
   "execution_count": 165,
   "id": "1f6586c0",
   "metadata": {},
   "outputs": [
    {
     "name": "stdout",
     "output_type": "stream",
     "text": [
      "The model performance for the training set\n",
      "-------------------------------------------\n",
      "MSE of training set is 5.287209767022621e-31\n",
      "R2 score of training set is 100.00%\n",
      "\n",
      "\n",
      "The model performance for the test set\n",
      "-------------------------------------------\n",
      "MSE of training set is 0.21894226592986382\n",
      "R2 score of test set is 97.30%\n",
      "-------------------------------------------\n",
      "Total time fit and predict:0.0720682144165039 seconds\n"
     ]
    }
   ],
   "source": [
    "\n",
    "start_time = time.time()\n",
    "\n",
    "# create a regressor object  \n",
    "DT_model= MultiOutputRegressor(DecisionTreeRegressor(random_state=0))\n",
    " \n",
    "# fit the regressor with X and Y data\n",
    "DT_model.fit(X_train, y_train)\n",
    "\n",
    "# predicting on training data-set\n",
    "DT_train_pred = DT_model.predict(X_train)\n",
    "# predicting on test data-set\n",
    "DT_test_pred = DT_model.predict(X_test)\n",
    "\n",
    "\n",
    "# evaluating the model on training dataset\n",
    "rmse_train = mean_squared_error(y_train, DT_train_pred) \n",
    "r2_train = r2_score(y_train, DT_train_pred)\n",
    "  \n",
    "  # evaluating the model on test dataset\n",
    "rmse_test =mean_squared_error(y_test, DT_test_pred)\n",
    "r2_test = r2_score(y_test, DT_test_pred)\n",
    "\n",
    "\n",
    "times.append(time.time() - start_time)\n",
    "\n",
    "  \n",
    "print(\"The model performance for the training set\")\n",
    "print(\"-------------------------------------------\")\n",
    "\n",
    "print(\"MSE of training set is {}\".format(rmse_train))\n",
    "print(\"R2 score of training set is {:.2%}\".format(r2_train))\n",
    "  \n",
    "print(\"\\n\")\n",
    "  \n",
    "print(\"The model performance for the test set\")\n",
    "print(\"-------------------------------------------\")\n",
    "print(\"MSE of training set is {}\".format(rmse_test))\n",
    "print(\"R2 score of test set is {:.2%}\".format(r2_test))\n",
    "print(\"-------------------------------------------\")\n",
    "print(\"Total time fit and predict:% s seconds\" % (time.time() - start_time))\n",
    "\n",
    "r2.append(r2_test)\n",
    "MSE.append(rmse_test)"
   ]
  },
  {
   "cell_type": "markdown",
   "id": "250b0f8c",
   "metadata": {},
   "source": [
    "    Random Forest"
   ]
  },
  {
   "cell_type": "code",
   "execution_count": 166,
   "id": "5ab8816f",
   "metadata": {},
   "outputs": [
    {
     "name": "stdout",
     "output_type": "stream",
     "text": [
      "The model performance for the training set\n",
      "-------------------------------------------\n",
      "MSE of training set is 0.015019811986310007\n",
      "R2 score of training set is 99.71%\n",
      "\n",
      "\n",
      "The model performance for the test set\n",
      "-------------------------------------------\n",
      "MSE of training set is 0.09729510132669851\n",
      "R2 score of test set is 98.64%\n",
      "-------------------------------------------\n",
      "Total time fit and predict:4.260849952697754 seconds\n"
     ]
    }
   ],
   "source": [
    "\n",
    "start_time = time.time()\n",
    "\n",
    "rd_for = MultiOutputRegressor(RandomForestRegressor(random_state=0))\n",
    "                        \n",
    "# fit the regressor with X and Y data\n",
    "rd_for.fit(X_train, y_train)\n",
    "\n",
    "# predicting on training data-set\n",
    "RF_train_pred = rd_for.predict(X_train)\n",
    "# predicting on test data-set\n",
    "RF_test_pred = rd_for.predict(X_test)\n",
    " \n",
    "# evaluating the model on training dataset\n",
    "rmse_train = mean_squared_error(y_train, RF_train_pred) \n",
    "r2_train = r2_score(y_train, RF_train_pred)\n",
    "  \n",
    "  # evaluating the model on test dataset\n",
    "rmse_test =mean_squared_error(y_test, RF_test_pred)\n",
    "r2_test = r2_score(y_test, RF_test_pred)\n",
    "\n",
    "times.append(time.time() - start_time)\n",
    "\n",
    "  \n",
    "print(\"The model performance for the training set\")\n",
    "print(\"-------------------------------------------\")\n",
    "\n",
    "print(\"MSE of training set is {}\".format(rmse_train))\n",
    "print(\"R2 score of training set is {:.2%}\".format(r2_train))\n",
    "  \n",
    "print(\"\\n\")\n",
    "  \n",
    "print(\"The model performance for the test set\")\n",
    "print(\"-------------------------------------------\")\n",
    "print(\"MSE of training set is {}\".format(rmse_test))\n",
    "print(\"R2 score of test set is {:.2%}\".format(r2_test))\n",
    "print(\"-------------------------------------------\")\n",
    "print(\"Total time fit and predict:% s seconds\" % (time.time() - start_time))\n",
    "\n",
    "\n",
    "r2.append(r2_test)\n",
    "MSE.append(rmse_test)"
   ]
  },
  {
   "cell_type": "markdown",
   "id": "5864b9c5",
   "metadata": {},
   "source": [
    "    Gradient Boosting Regressor"
   ]
  },
  {
   "cell_type": "code",
   "execution_count": 156,
   "id": "e2420bff",
   "metadata": {},
   "outputs": [
    {
     "name": "stdout",
     "output_type": "stream",
     "text": [
      "The model performance for the training set\n",
      "-------------------------------------------\n",
      "MSE of training set is 0.9904732712460157\n",
      "R2 score of training set is 98.63%\n",
      "\n",
      "\n",
      "The model performance for the test set\n",
      "-------------------------------------------\n",
      "MSE of training set is 1.0945098204321484\n",
      "R2 score of test set is 97.74%\n",
      "-------------------------------------------\n",
      "Total time fit and predict:3.0377886295318604 seconds\n"
     ]
    }
   ],
   "source": [
    "\n",
    "start_time = time.time()\n",
    "\n",
    "GBR = MultiOutputRegressor(GradientBoostingRegressor(random_state=0))\n",
    "GBR.fit(X_train, y_train)\n",
    "                        \n",
    "# fit the regressor with X and Y data\n",
    "GBR.fit(X_train, y_train)\n",
    "\n",
    "# predicting on training data-set\n",
    "GBR_train_pred = GBR.predict(X_train)\n",
    "# predicting on test data-set\n",
    "GBR_test_pred = GBR.predict(X_test)\n",
    "\n",
    "\n",
    "# evaluating the model on training dataset\n",
    "rmse_train = mean_squared_error(y_train,GBR_train_pred) \n",
    "r2_train = r2_score(y_train, GBR_train_pred)\n",
    "  \n",
    "  # evaluating the model on test dataset\n",
    "rmse_test =mean_squared_error(y_test, GBR_test_pred)\n",
    "r2_test = r2_score(y_test, GBR_test_pred)\n",
    "  \n",
    "\n",
    "times.append(time.time() - start_time)\n",
    "\n",
    "print(\"The model performance for the training set\")\n",
    "print(\"-------------------------------------------\")\n",
    "\n",
    "print(\"MSE of training set is {}\".format(rmse_train))\n",
    "print(\"R2 score of training set is {:.2%}\".format(r2_train))\n",
    "  \n",
    "print(\"\\n\")\n",
    "  \n",
    "print(\"The model performance for the test set\")\n",
    "print(\"-------------------------------------------\")\n",
    "print(\"MSE of training set is {}\".format(rmse_test))\n",
    "print(\"R2 score of test set is {:.2%}\".format(r2_test))\n",
    "print(\"-------------------------------------------\")\n",
    "print(\"Total time fit and predict:% s seconds\" % (time.time() - start_time))\n",
    "\n",
    "\n",
    "r2.append(r2_test)\n",
    "MSE.append(rmse_test)"
   ]
  },
  {
   "cell_type": "markdown",
   "id": "e238c16a",
   "metadata": {},
   "source": [
    "Time and Metric Plots \n",
    "---\n"
   ]
  },
  {
   "cell_type": "code",
   "execution_count": 157,
   "id": "c31c2eca",
   "metadata": {},
   "outputs": [
    {
     "name": "stderr",
     "output_type": "stream",
     "text": [
      "C:\\ProgramData\\Anaconda3\\lib\\site-packages\\seaborn\\_decorators.py:36: FutureWarning: Pass the following variables as keyword args: x, y. From version 0.12, the only valid positional argument will be `data`, and passing other arguments without an explicit keyword will result in an error or misinterpretation.\n",
      "  warnings.warn(\n"
     ]
    },
    {
     "data": {
      "image/png": "[encoded data removed]",
      "text/plain": [
       "<Figure size 720x504 with 1 Axes>"
      ]
     },
     "metadata": {},
     "output_type": "display_data"
    }
   ],
   "source": [
    "from matplotlib.pyplot import figure\n",
    "figure(figsize=(10, 7))\n",
    "sns.barplot(names, times).set_title(\"Algorithm Times Barplot\",fontsize=16)\n",
    "plt.xlabel(\"names\")\n",
    "plt.ylabel(\"times\");"
   ]
  },
  {
   "cell_type": "markdown",
   "id": "ab036b70",
   "metadata": {},
   "source": [
    "First of all we compare the times that each of the algorithms runs, We see that the forest need longer."
   ]
  },
  {
   "cell_type": "code",
   "execution_count": 158,
   "id": "aa5313ee",
   "metadata": {},
   "outputs": [
    {
     "name": "stderr",
     "output_type": "stream",
     "text": [
      "C:\\ProgramData\\Anaconda3\\lib\\site-packages\\seaborn\\_decorators.py:36: FutureWarning: Pass the following variables as keyword args: x, y. From version 0.12, the only valid positional argument will be `data`, and passing other arguments without an explicit keyword will result in an error or misinterpretation.\n",
      "  warnings.warn(\n"
     ]
    },
    {
     "data": {
      "image/png": "[encoded data removed]",
      "text/plain": [
       "<Figure size 720x504 with 1 Axes>"
      ]
     },
     "metadata": {},
     "output_type": "display_data"
    }
   ],
   "source": [
    "figure(figsize=(10, 7))\n",
    "sns.barplot(names, r2).set(title='R2 metric bar plot', ylim=(0.9, 1.0))\n",
    "plt.xlabel(\"names\")\n",
    "plt.ylabel(\"R2 metric\");"
   ]
  },
  {
   "cell_type": "code",
   "execution_count": 159,
   "id": "61ff6c9b",
   "metadata": {},
   "outputs": [
    {
     "name": "stderr",
     "output_type": "stream",
     "text": [
      "C:\\ProgramData\\Anaconda3\\lib\\site-packages\\seaborn\\_decorators.py:36: FutureWarning: Pass the following variables as keyword args: x, y. From version 0.12, the only valid positional argument will be `data`, and passing other arguments without an explicit keyword will result in an error or misinterpretation.\n",
      "  warnings.warn(\n"
     ]
    },
    {
     "data": {
      "image/png": "[encoded data removed]",
      "text/plain": [
       "<Figure size 720x504 with 1 Axes>"
      ]
     },
     "metadata": {},
     "output_type": "display_data"
    }
   ],
   "source": [
    "figure(figsize=(10, 7))\n",
    "sns.barplot(names, MSE).set_title(\"MSE metric Barplot\",fontsize=16)\n",
    "plt.xlabel(\"names\")\n",
    "plt.ylabel(\"MSE metric\");"
   ]
  },
  {
   "cell_type": "markdown",
   "id": "b17c1479",
   "metadata": {},
   "source": [
    "In the performance we see that forests have the best possible performance. However, all algorithms generally perform well, there is no one to give us bad results.\n"
   ]
  },
  {
   "cell_type": "code",
   "execution_count": null,
   "id": "caca9c44",
   "metadata": {},
   "outputs": [],
   "source": []
  }
 ],
 "metadata": {
  "kernelspec": {
   "display_name": "Python 3",
   "language": "python",
   "name": "python3"
  },
  "language_info": {
   "codemirror_mode": {
    "name": "ipython",
    "version": 3
   },
   "file_extension": ".py",
   "mimetype": "text/x-python",
   "name": "python",
   "nbconvert_exporter": "python",
   "pygments_lexer": "ipython3",
   "version": "3.8.8"
  }
 },
 "nbformat": 4,
 "nbformat_minor": 5
}
